{
  "nbformat": 4,
  "nbformat_minor": 0,
  "metadata": {
    "colab": {
      "name": "github.ipynb",
      "provenance": [],
      "collapsed_sections": [],
      "include_colab_link": true
    },
    "kernelspec": {
      "name": "python3",
      "display_name": "Python 3"
    },
    "accelerator": "GPU"
  },
  "cells": [
    {
      "cell_type": "markdown",
      "metadata": {
        "id": "view-in-github",
        "colab_type": "text"
      },
      "source": [
        "<a href=\"https://colab.research.google.com/github/Vissu1007/Course_Project_Jovian/blob/main/torrent%20downloader.ipynb\" target=\"_parent\"><img src=\"https://colab.research.google.com/assets/colab-badge.svg\" alt=\"Open In Colab\"/></a>"
      ]
    },
    {
      "cell_type": "markdown",
      "metadata": {
        "id": "aQuWDmfm9YOi"
      },
      "source": [
        "# Torrents To Google Drive Downloader"
      ]
    },
    {
      "cell_type": "markdown",
      "metadata": {
        "id": "Uf90U73y9YOj"
      },
      "source": [
        "### Mount Google Drive\n",
        "To stream files we need to mount Google Drive."
      ]
    },
    {
      "cell_type": "code",
      "metadata": {
        "id": "oWM9l2fvtuvO",
        "colab": {
          "base_uri": "https://localhost:8080/"
        },
        "outputId": "6c20005f-9c45-47cc-fc10-26f2faf69478"
      },
      "source": [
        "from google.colab import drive\n",
        "drive.mount('/content/drive')"
      ],
      "execution_count": 1,
      "outputs": [
        {
          "output_type": "stream",
          "name": "stdout",
          "text": [
            "Mounted at /content/drive\n"
          ]
        }
      ]
    },
    {
      "cell_type": "markdown",
      "metadata": {
        "id": "FexiyATtNwTG"
      },
      "source": [
        "###Dependency\n",
        "https://www.libtorrent.org/"
      ]
    },
    {
      "cell_type": "code",
      "metadata": {
        "id": "m6hF0emftx4h",
        "colab": {
          "base_uri": "https://localhost:8080/"
        },
        "outputId": "7dbcfc0b-4f54-4dce-aee4-e093b3910737"
      },
      "source": [
        "!python -m pip install --upgrade pip setuptools wheel\n",
        "!python -m pip install lbry-libtorrent"
      ],
      "execution_count": 2,
      "outputs": [
        {
          "output_type": "stream",
          "name": "stdout",
          "text": [
            "Looking in indexes: https://pypi.org/simple, https://us-python.pkg.dev/colab-wheels/public/simple/\n",
            "Requirement already satisfied: pip in /usr/local/lib/python3.7/dist-packages (21.1.3)\n",
            "Collecting pip\n",
            "  Downloading pip-22.1.1-py3-none-any.whl (2.1 MB)\n",
            "\u001b[K     |████████████████████████████████| 2.1 MB 5.0 MB/s \n",
            "\u001b[?25hRequirement already satisfied: setuptools in /usr/local/lib/python3.7/dist-packages (57.4.0)\n",
            "Collecting setuptools\n",
            "  Downloading setuptools-62.3.2-py3-none-any.whl (1.2 MB)\n",
            "\u001b[K     |████████████████████████████████| 1.2 MB 54.4 MB/s \n",
            "\u001b[?25hRequirement already satisfied: wheel in /usr/local/lib/python3.7/dist-packages (0.37.1)\n",
            "Installing collected packages: setuptools, pip\n",
            "  Attempting uninstall: setuptools\n",
            "    Found existing installation: setuptools 57.4.0\n",
            "    Uninstalling setuptools-57.4.0:\n",
            "      Successfully uninstalled setuptools-57.4.0\n",
            "  Attempting uninstall: pip\n",
            "    Found existing installation: pip 21.1.3\n",
            "    Uninstalling pip-21.1.3:\n",
            "      Successfully uninstalled pip-21.1.3\n",
            "\u001b[31mERROR: pip's dependency resolver does not currently take into account all the packages that are installed. This behaviour is the source of the following dependency conflicts.\n",
            "tensorflow 2.8.0+zzzcolab20220506162203 requires tf-estimator-nightly==2.8.0.dev2021122109, which is not installed.\n",
            "datascience 0.10.6 requires folium==0.2.1, but you have folium 0.8.3 which is incompatible.\u001b[0m\n",
            "Successfully installed pip-22.1.1 setuptools-62.3.2\n",
            "Looking in indexes: https://pypi.org/simple, https://us-python.pkg.dev/colab-wheels/public/simple/\n",
            "Collecting lbry-libtorrent\n",
            "  Downloading lbry_libtorrent-1.2.4-py3-none-any.whl (2.4 MB)\n",
            "\u001b[2K     \u001b[90m━━━━━━━━━━━━━━━━━━━━━━━━━━━━━━━━━━━━━━━━\u001b[0m \u001b[32m2.4/2.4 MB\u001b[0m \u001b[31m30.0 MB/s\u001b[0m eta \u001b[36m0:00:00\u001b[0m\n",
            "\u001b[?25hInstalling collected packages: lbry-libtorrent\n",
            "Successfully installed lbry-libtorrent-1.2.4\n",
            "\u001b[33mWARNING: Running pip as the 'root' user can result in broken permissions and conflicting behaviour with the system package manager. It is recommended to use a virtual environment instead: https://pip.pypa.io/warnings/venv\u001b[0m\u001b[33m\n",
            "\u001b[0m"
          ]
        }
      ]
    },
    {
      "cell_type": "markdown",
      "metadata": {
        "id": "j-ILSl_YOGRS"
      },
      "source": [
        "### Paste the Magnet Link here\n",
        "Variable **link** stores the link string."
      ]
    },
    {
      "cell_type": "code",
      "metadata": {
        "id": "xoyBbqS9LZr3",
        "colab": {
          "base_uri": "https://localhost:8080/"
        },
        "outputId": "89ac910f-9fd7-4369-ef93-2e77f4d3d7ac"
      },
      "source": [
        "link = input(\"magnet:?xt=urn:btih:DF6BD217CACE6956DA22A0B5535DCC2FC06FA540&dn=www.1TamilMV.cloud%20-%20F3%20%282022%29%20Telugu%20Proper%20HQ%20PreDVD%20-%20720p%20-%20x264%20-%20HQ%20Clean%20Aud%20-%201.6GB.mkv&tr=udp%3a%2f%2ftracker.openbittorrent.com%3a80%2fannounce&tr=udp%3a%2f%2ftracker.opentrackr.org%3a1337%2fannounce \\n\") # PASTE TORRENT/MAGNET LINK HERE"
      ],
      "execution_count": 3,
      "outputs": [
        {
          "name": "stdout",
          "output_type": "stream",
          "text": [
            "magnet:?xt=urn:btih:DF6BD217CACE6956DA22A0B5535DCC2FC06FA540&dn=www.1TamilMV.cloud%20-%20F3%20%282022%29%20Telugu%20Proper%20HQ%20PreDVD%20-%20720p%20-%20x264%20-%20HQ%20Clean%20Aud%20-%201.6GB.mkv&tr=udp%3a%2f%2ftracker.openbittorrent.com%3a80%2fannounce&tr=udp%3a%2f%2ftracker.opentrackr.org%3a1337%2fannounce \n",
            "magnet:?xt=urn:btih:DF6BD217CACE6956DA22A0B5535DCC2FC06FA540&dn=www.1TamilMV.cloud%20-%20F3%20%282022%29%20Telugu%20Proper%20HQ%20PreDVD%20-%20720p%20-%20x264%20-%20HQ%20Clean%20Aud%20-%201.6GB.mkv&tr=udp%3a%2f%2ftracker.openbittorrent.com%3a80%2fannounce&tr=udp%3a%2f%2ftracker.opentrackr.org%3a1337%2fannounce\n"
          ]
        }
      ]
    },
    {
      "cell_type": "markdown",
      "metadata": {
        "id": "tqKcWHZcYRIA"
      },
      "source": [
        "### Code to download torrent"
      ]
    },
    {
      "cell_type": "code",
      "metadata": {
        "id": "b09BxnANO2ep",
        "colab": {
          "base_uri": "https://localhost:8080/"
        },
        "outputId": "96620e1c-c9f3-41ba-8c76-339978522622"
      },
      "source": [
        "import libtorrent as lt\n",
        "import time\n",
        "import datetime\n",
        "\n",
        "ses = lt.session()\n",
        "ses.listen_on(6881, 6891)\n",
        "params = {\n",
        "    'save_path': '/content/drive/My Drive/Torrent/',\n",
        "    'storage_mode': lt.storage_mode_t(2)}\n",
        "\n",
        "print(link)\n",
        "\n",
        "handle = lt.add_magnet_uri(ses, link, params)\n",
        "ses.start_dht()\n",
        "\n",
        "begin = time.time()\n",
        "print(datetime.datetime.now())\n",
        "\n",
        "print ('Downloading Metadata...')\n",
        "while (not handle.has_metadata()):\n",
        "    time.sleep(1)\n",
        "print ('Got Metadata, Starting Torrent Download...')\n",
        "\n",
        "print(\"Starting\", handle.name())\n",
        "\n",
        "while (handle.status().state != lt.torrent_status.seeding):\n",
        "    s = handle.status()\n",
        "    state_str = ['queued', 'checking', 'downloading metadata', \\\n",
        "            'downloading', 'finished', 'seeding', 'allocating']\n",
        "    print ('%.2f%% complete (down: %.1f kb/s up: %.1f kB/s peers: %d) %s ' % \\\n",
        "            (s.progress * 100, s.download_rate / 1000, s.upload_rate / 1000, \\\n",
        "            s.num_peers, state_str[s.state]))\n",
        "    time.sleep(5)\n",
        "\n",
        "end = time.time()\n",
        "print(handle.name(), \"COMPLETE\")\n",
        "\n",
        "print(\"Elapsed Time: \",int((end-begin)//60),\"min :\", int((end-begin)%60), \"sec\")\n",
        "\n",
        "print(datetime.datetime.now())"
      ],
      "execution_count": null,
      "outputs": [
        {
          "output_type": "stream",
          "name": "stdout",
          "text": [
            "magnet:?xt=urn:btih:DF6BD217CACE6956DA22A0B5535DCC2FC06FA540&dn=www.1TamilMV.cloud%20-%20F3%20%282022%29%20Telugu%20Proper%20HQ%20PreDVD%20-%20720p%20-%20x264%20-%20HQ%20Clean%20Aud%20-%201.6GB.mkv&tr=udp%3a%2f%2ftracker.openbittorrent.com%3a80%2fannounce&tr=udp%3a%2f%2ftracker.opentrackr.org%3a1337%2fannounce\n",
            "2022-05-29 12:25:36.724967\n",
            "Downloading Metadata...\n",
            "Got Metadata, Starting Torrent Download...\n",
            "Starting www.1TamilMV.cloud - F3 (2022) Telugu Proper HQ PreDVD - 720p - x264 - HQ Clean Aud - 1.6GB.mkv\n",
            "0.00% complete (down: 3.6 kb/s up: 1.1 kB/s peers: 14) downloading \n",
            "0.01% complete (down: 29.5 kb/s up: 3.3 kB/s peers: 25) downloading \n",
            "0.09% complete (down: 199.0 kb/s up: 9.1 kB/s peers: 34) downloading \n",
            "0.24% complete (down: 403.2 kb/s up: 15.7 kB/s peers: 35) downloading \n",
            "0.75% complete (down: 1268.4 kb/s up: 43.2 kB/s peers: 34) downloading \n",
            "1.81% complete (down: 3061.0 kb/s up: 105.2 kB/s peers: 24) downloading \n",
            "2.59% complete (down: 2865.8 kb/s up: 113.3 kB/s peers: 16) downloading \n",
            "3.36% complete (down: 2457.2 kb/s up: 124.7 kB/s peers: 18) downloading \n",
            "4.28% complete (down: 3003.4 kb/s up: 136.1 kB/s peers: 17) downloading \n",
            "5.29% complete (down: 3233.9 kb/s up: 137.3 kB/s peers: 20) downloading \n",
            "6.46% complete (down: 3968.7 kb/s up: 146.1 kB/s peers: 23) downloading \n",
            "7.58% complete (down: 3863.7 kb/s up: 147.6 kB/s peers: 31) downloading \n",
            "8.73% complete (down: 4008.0 kb/s up: 147.4 kB/s peers: 35) downloading \n",
            "9.91% complete (down: 4077.2 kb/s up: 142.9 kB/s peers: 37) downloading \n",
            "11.11% complete (down: 4185.7 kb/s up: 143.4 kB/s peers: 38) downloading \n",
            "12.29% complete (down: 4130.2 kb/s up: 140.2 kB/s peers: 35) downloading \n",
            "13.45% complete (down: 4099.7 kb/s up: 139.0 kB/s peers: 40) downloading \n",
            "14.49% complete (down: 3800.0 kb/s up: 127.5 kB/s peers: 48) downloading \n",
            "15.54% complete (down: 3779.5 kb/s up: 126.9 kB/s peers: 56) downloading \n",
            "16.59% complete (down: 3763.1 kb/s up: 124.9 kB/s peers: 49) downloading \n",
            "17.59% complete (down: 3586.5 kb/s up: 120.6 kB/s peers: 44) downloading \n",
            "18.57% complete (down: 3486.5 kb/s up: 117.6 kB/s peers: 44) downloading \n",
            "19.54% complete (down: 3432.1 kb/s up: 116.8 kB/s peers: 40) downloading \n",
            "20.51% complete (down: 3414.1 kb/s up: 114.1 kB/s peers: 40) downloading \n"
          ]
        }
      ]
    }
  ]
}